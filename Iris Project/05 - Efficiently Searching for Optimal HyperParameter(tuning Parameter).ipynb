{
 "cells": [
  {
   "cell_type": "markdown",
   "metadata": {},
   "source": [
    "# Efficiently Searching for Optimal Hyper Parameter(tuning Parameter)"
   ]
  },
  {
   "cell_type": "markdown",
   "metadata": {},
   "source": [
    "### Agenda\n",
    "\n",
    "* How can K-validation can be used to search for an **optimal hyper paramter**?\n",
    "* How can we do it in a **efficient way**?\n",
    "* How do you search for multiple tuning parameters before making **real prediction**?\n",
    "* How can **computational expense** of the proces be reduced?"
   ]
  },
  {
   "cell_type": "markdown",
   "metadata": {},
   "source": [
    "#### K fold validation\n",
    "\n",
    "**Benefits:**\n",
    "\n",
    "* More reliable estimate of out-of-sample performance than train-test split.\n",
    "* Can be used to select\n",
    "    * Best Tuning paramter\n",
    "    * Best Model selection\n",
    "    * Best feature selection\n",
    "    \n",
    "**Draw Backs**\n",
    "\n",
    "* Bit computionally expensive\n"
   ]
  },
  {
   "cell_type": "code",
   "execution_count": null,
   "metadata": {
    "collapsed": true
   },
   "outputs": [],
   "source": []
  }
 ],
 "metadata": {
  "kernelspec": {
   "display_name": "Python 3",
   "language": "python",
   "name": "python3"
  },
  "language_info": {
   "codemirror_mode": {
    "name": "ipython",
    "version": 3
   },
   "file_extension": ".py",
   "mimetype": "text/x-python",
   "name": "python",
   "nbconvert_exporter": "python",
   "pygments_lexer": "ipython3",
   "version": "3.6.0"
  }
 },
 "nbformat": 4,
 "nbformat_minor": 2
}
