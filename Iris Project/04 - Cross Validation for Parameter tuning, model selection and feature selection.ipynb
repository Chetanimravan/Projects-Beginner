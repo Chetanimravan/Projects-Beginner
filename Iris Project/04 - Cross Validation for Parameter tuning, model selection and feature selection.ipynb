{
 "cells": [
  {
   "cell_type": "markdown",
   "metadata": {},
   "source": [
    "# Cross-validation for Parameter tuning, model selection and feature selection\n",
    "\n",
    "Reference: https://youtu.be/6dbrR-WymjI?list=PL5-da3qGB5ICeMbQuqbbCOQWcS6OYBr5A"
   ]
  },
  {
   "cell_type": "markdown",
   "metadata": {},
   "source": [
    "## Agenda\n",
    "\n",
    "* What is the draw back of using the train/test split procedure for model evaluation?\n",
    "\n",
    "* How does K-fold cross validation overcome this limitation?\n",
    "\n",
    "* How can cross-validation be used for selecting **tuning parameters**, Choosing between **models** and selecting **feature**?\n",
    "\n",
    "* What are some possible improvements to cross-validation?"
   ]
  },
  {
   "cell_type": "markdown",
   "metadata": {},
   "source": [
    "## Review of Model Evaluation procedures\n",
    "\n",
    "**Motivation:** Need a way to choose between machine learning models \n",
    "\n",
    "* Goal is to estimate likely performance of a model on out-of-sample data\n",
    "\n",
    "**Initial idea:** Train & Test on the same data\n",
    "\n",
    "* But, Maximizing training accuracy rewards over complex model which overfit the training data\n",
    "\n",
    "**Alternative Idea:** Train/test Split\n",
    "\n",
    "* Split the dataset into two pieces, so that the model can be trained and tested on **different data**\n",
    "* **Testing accuracy**(does not reward over complex model) is a better estimate than training accuracy of out-of-sample performance\n",
    "* But, it provides a **high variance** estimate since changing which observations happen to be in the testing set can significantly change testing accuracy"
   ]
  },
  {
   "cell_type": "code",
   "execution_count": 1,
   "metadata": {
    "collapsed": false
   },
   "outputs": [],
   "source": [
    "# Import all the necessary classes, function and modules\n",
    "from sklearn.datasets import load_iris\n",
    "from sklearn.model_selection import train_test_split\n",
    "from sklearn.neighbors import KNeighborsClassifier\n",
    "from sklearn.linear_model import LogisticRegression\n",
    "from sklearn import metrics\n",
    "\n",
    "# read the iris dataset\n",
    "iris= load_iris()\n",
    "\n",
    "#feature Matrix\n",
    "x = iris.data\n",
    "\n",
    "#response vector\n",
    "y = iris.target"
   ]
  },
  {
   "cell_type": "code",
   "execution_count": 2,
   "metadata": {
    "collapsed": false
   },
   "outputs": [
    {
     "name": "stdout",
     "output_type": "stream",
     "text": [
      "0.973684210526\n"
     ]
    }
   ],
   "source": [
    "#split the data into train and test\n",
    "xtrain,xtest,ytrain,ytest = train_test_split(x,y,random_state=4)\n",
    "\n",
    "#check the classification accuracy for K=5\n",
    "knn = KNeighborsClassifier(n_neighbors=5)\n",
    "knn.fit(xtrain,ytrain)\n",
    "\n",
    "ypred = knn.predict(xtest)\n",
    "\n",
    "print(metrics.accuracy_score(ytest,ypred))"
   ]
  },
  {
   "cell_type": "markdown",
   "metadata": {},
   "source": [
    "**Question:** What if we creatted bunch of train/splits, calculated the testing accuracy for each and averaged the result together?\n",
    "\n",
    "**Answer:** That's the sense of cross validation!"
   ]
  },
  {
   "cell_type": "markdown",
   "metadata": {},
   "source": [
    "### Steps for K-fold Cross-validation\n",
    "\n",
    "1. Split the dataset into K **equal** partitions(or \"folds\")\n",
    "2. Use fold 1 as the testing set and the union of the other folds as the training set.\n",
    "3. Calculate the testing accuracy.\n",
    "4. Repeat step 2 and 3 k times. using a different fold as the testing set each time.\n",
    "5. Use the average testing accuracy as the estimate of out-of-sample accuracy\n",
    "\n",
    "Daigram of 5 fold Cross validation:\n",
    "\n",
    "![alt text](07_cross_validation_diagram.png \"Title\")"
   ]
  },
  {
   "cell_type": "markdown",
   "metadata": {},
   "source": [
    "### Cross Validate Example: Parameter tuning"
   ]
  },
  {
   "cell_type": "code",
   "execution_count": 3,
   "metadata": {
    "collapsed": false
   },
   "outputs": [
    {
     "name": "stdout",
     "output_type": "stream",
     "text": [
      "[ 1.          0.93333333  1.          1.          0.86666667  0.93333333\n",
      "  0.93333333  1.          1.          1.        ]\n",
      "avergae Score of all 10 fold test:  0.966666666667\n"
     ]
    }
   ],
   "source": [
    "# Import Cross_val_score function from Model_selection (Cross_validate)\n",
    "\n",
    "from sklearn.model_selection import cross_val_score\n",
    "knn = KNeighborsClassifier(n_neighbors=5)\n",
    "\n",
    "#CV represents no of k-folds 10 is the proven number to take minimum of folds\n",
    "scores = cross_val_score(knn,x,y,scoring=\"accuracy\",cv=10)\n",
    "\n",
    "print(scores)\n",
    "print(\"avergae Score of all 10 fold test: \",scores.mean())"
   ]
  },
  {
   "cell_type": "code",
   "execution_count": 4,
   "metadata": {
    "collapsed": false
   },
   "outputs": [
    {
     "name": "stdout",
     "output_type": "stream",
     "text": [
      "[0.95999999999999996, 0.95333333333333337, 0.96666666666666656, 0.96666666666666656, 0.96666666666666679, 0.96666666666666679, 0.96666666666666679, 0.96666666666666679, 0.97333333333333338, 0.96666666666666679, 0.96666666666666679, 0.97333333333333338, 0.98000000000000009, 0.97333333333333338, 0.97333333333333338, 0.97333333333333338, 0.97333333333333338, 0.98000000000000009, 0.97333333333333338, 0.98000000000000009, 0.96666666666666656, 0.96666666666666656, 0.97333333333333338, 0.95999999999999996, 0.96666666666666656, 0.95999999999999996, 0.96666666666666656, 0.95333333333333337, 0.95333333333333337, 0.95333333333333337]\n"
     ]
    }
   ],
   "source": [
    "#define Knn range from 1 to 31\n",
    "knn_range=range(1,31)\n",
    "knn_accuracy=[]\n",
    "for k in knn_range:\n",
    "    knn = KNeighborsClassifier(n_neighbors=k)\n",
    "    knn_accuracy.append(cross_val_score(knn,x,y,scoring=\"accuracy\",cv=10).mean())\n",
    "\n",
    "print(knn_accuracy)\n"
   ]
  },
  {
   "cell_type": "code",
   "execution_count": 5,
   "metadata": {
    "collapsed": false,
    "scrolled": true
   },
   "outputs": [
    {
     "data": {
      "text/plain": [
       "<matplotlib.text.Text at 0x935bbe0>"
      ]
     },
     "execution_count": 5,
     "metadata": {},
     "output_type": "execute_result"
    },
    {
     "data": {
      "image/png": "[encoded data removed]",
      "text/plain": [
       "<matplotlib.figure.Figure at 0x3c69ba8>"
      ]
     },
     "metadata": {},
     "output_type": "display_data"
    }
   ],
   "source": [
    "\n",
    "from matplotlib import pyplot as plt\n",
    "\n",
    "%matplotlib inline\n",
    "\n",
    "plt.plot(knn_range,knn_accuracy)\n",
    "plt.xlabel(\"K Value\")\n",
    "plt.ylabel(\"Accuracy Score\")"
   ]
  },
  {
   "cell_type": "markdown",
   "metadata": {},
   "source": [
    "* From above graph we see that best k value is around 13 to 20\n",
    "* Since higher value of K has less complexity we can choose K=20"
   ]
  },
  {
   "cell_type": "markdown",
   "metadata": {},
   "source": [
    "### Cross validation Example: Model selection"
   ]
  },
  {
   "cell_type": "code",
   "execution_count": 6,
   "metadata": {
    "collapsed": false
   },
   "outputs": [
    {
     "name": "stdout",
     "output_type": "stream",
     "text": [
      "KNN accuracy 0.980000 and Logistic Regresion Accuracy:0.953333\n"
     ]
    }
   ],
   "source": [
    "#instantiate the KNN Model with Best K value\n",
    "knn = KNeighborsClassifier(n_neighbors=20)\n",
    "\n",
    "# instantiate Logistic Regression Model\n",
    "logreg = LogisticRegression()\n",
    "\n",
    "\n",
    "knn_score = cross_val_score(knn,x,y,cv=10,scoring=\"accuracy\").mean()\n",
    "logreg_score = cross_val_score(logreg,x,y,cv=10,scoring=\"accuracy\").mean()\n",
    "\n",
    "print(\"KNN accuracy %f and Logistic Regresion Accuracy:%f\"%(knn_score,logreg_score))"
   ]
  },
  {
   "cell_type": "markdown",
   "metadata": {},
   "source": [
    "### Cross Validation Example:  Feature selection"
   ]
  },
  {
   "cell_type": "code",
   "execution_count": 7,
   "metadata": {
    "collapsed": true
   },
   "outputs": [],
   "source": [
    "#import the Pandas library\n",
    "\n",
    "import pandas as pd\n",
    "\n",
    "data_adv = pd.read_csv(\"Advertising.csv\",index_col=0)"
   ]
  },
  {
   "cell_type": "code",
   "execution_count": 8,
   "metadata": {
    "collapsed": false
   },
   "outputs": [
    {
     "data": {
      "text/html": [
       "<div>\n",
       "<table border=\"1\" class=\"dataframe\">\n",
       "  <thead>\n",
       "    <tr style=\"text-align: right;\">\n",
       "      <th></th>\n",
       "      <th>TV</th>\n",
       "      <th>Radio</th>\n",
       "      <th>Newspaper</th>\n",
       "      <th>Sales</th>\n",
       "    </tr>\n",
       "  </thead>\n",
       "  <tbody>\n",
       "    <tr>\n",
       "      <th>1</th>\n",
       "      <td>230.1</td>\n",
       "      <td>37.8</td>\n",
       "      <td>69.2</td>\n",
       "      <td>22.1</td>\n",
       "    </tr>\n",
       "    <tr>\n",
       "      <th>2</th>\n",
       "      <td>44.5</td>\n",
       "      <td>39.3</td>\n",
       "      <td>45.1</td>\n",
       "      <td>10.4</td>\n",
       "    </tr>\n",
       "    <tr>\n",
       "      <th>3</th>\n",
       "      <td>17.2</td>\n",
       "      <td>45.9</td>\n",
       "      <td>69.3</td>\n",
       "      <td>9.3</td>\n",
       "    </tr>\n",
       "    <tr>\n",
       "      <th>4</th>\n",
       "      <td>151.5</td>\n",
       "      <td>41.3</td>\n",
       "      <td>58.5</td>\n",
       "      <td>18.5</td>\n",
       "    </tr>\n",
       "    <tr>\n",
       "      <th>5</th>\n",
       "      <td>180.8</td>\n",
       "      <td>10.8</td>\n",
       "      <td>58.4</td>\n",
       "      <td>12.9</td>\n",
       "    </tr>\n",
       "  </tbody>\n",
       "</table>\n",
       "</div>"
      ],
      "text/plain": [
       "      TV  Radio  Newspaper  Sales\n",
       "1  230.1   37.8       69.2   22.1\n",
       "2   44.5   39.3       45.1   10.4\n",
       "3   17.2   45.9       69.3    9.3\n",
       "4  151.5   41.3       58.5   18.5\n",
       "5  180.8   10.8       58.4   12.9"
      ]
     },
     "execution_count": 8,
     "metadata": {},
     "output_type": "execute_result"
    }
   ],
   "source": [
    "data_adv.head()"
   ]
  },
  {
   "cell_type": "code",
   "execution_count": 9,
   "metadata": {
    "collapsed": true
   },
   "outputs": [],
   "source": [
    "#import LinearRegression Model\n",
    "\n",
    "from sklearn.linear_model import LinearRegression\n",
    "\n",
    "linreg = LinearRegression()"
   ]
  },
  {
   "cell_type": "code",
   "execution_count": 10,
   "metadata": {
    "collapsed": false
   },
   "outputs": [],
   "source": [
    "from math import factorial as f\n",
    "from numpy import random\n",
    "\n",
    "\n",
    "def nCr(n,r):\n",
    "    return f(n)//(f(n-r)*f(r))\n",
    "\n",
    "def combination_matrix(features):\n",
    "    a=[]\n",
    "    n = len(features)\n",
    "    for i in range(1,n+1):\n",
    "        a.append(nCr(n,i))\n",
    "    return a\n",
    "\n",
    "a = combination_matrix(data_adv.columns.values[:-1])\n",
    "\n",
    "def feature_selection(features,n):\n",
    "    dict_feature={}\n",
    "    for feature_size in range(1,n+1):\n",
    "        dict_feature[feature_size]=[]\n",
    "        while True:            \n",
    "            ch = random.choice(features,feature_size)\n",
    "            ch1 = list(set(ch))\n",
    "            if len(ch) == len(ch1):\n",
    "                if ch1 not in dict_feature[feature_size]:\n",
    "                    dict_feature[feature_size].append(ch1)\n",
    "                    \n",
    "            if a[feature_size-1] == len(dict_feature[feature_size]):\n",
    "                break\n",
    "    return(dict_feature)\n"
   ]
  },
  {
   "cell_type": "code",
   "execution_count": 11,
   "metadata": {
    "collapsed": false
   },
   "outputs": [
    {
     "name": "stdout",
     "output_type": "stream",
     "text": [
      "[3, 3, 1]\n",
      "{1: [['Newspaper'], ['TV'], ['Radio']], 2: [['TV', 'Radio'], ['Newspaper', 'TV'], ['Newspaper', 'Radio']], 3: [['Newspaper', 'TV', 'Radio']]}\n"
     ]
    }
   ],
   "source": [
    "\n",
    "print(a)\n",
    "dict_feature = feature_selection(data_adv.columns.values[:-1],3)\n",
    "\n",
    "\n",
    "print(dict_feature)"
   ]
  },
  {
   "cell_type": "code",
   "execution_count": 12,
   "metadata": {
    "collapsed": true
   },
   "outputs": [],
   "source": [
    "\n",
    "def sample_out_data(feature_size,n):\n",
    "    features = dict_feature[feature_size][n]\n",
    "    x=data_adv[features]\n",
    "    y=data_adv[data_adv.columns.values[-1]]\n",
    "    xtr,xte,ytr,yte = train_test_split(x,y,random_state=12)\n",
    "    return(xtr,xte,ytr,yte)"
   ]
  },
  {
   "cell_type": "code",
   "execution_count": 22,
   "metadata": {
    "collapsed": false
   },
   "outputs": [
    {
     "name": "stdout",
     "output_type": "stream",
     "text": [
      "    CV_RMSE  No of Features           features_used\n",
      "0  5.181512               1             [Newspaper]\n",
      "1  3.001302               1                    [TV]\n",
      "2  4.584287               1                 [Radio]\n",
      "3  1.643662               2             [TV, Radio]\n",
      "4  2.845718               2         [Newspaper, TV]\n",
      "5  4.605631               2      [Newspaper, Radio]\n",
      "6  1.650748               3  [Newspaper, TV, Radio]\n"
     ]
    },
    {
     "data": {
      "text/html": [
       "<div>\n",
       "<table border=\"1\" class=\"dataframe\">\n",
       "  <thead>\n",
       "    <tr style=\"text-align: right;\">\n",
       "      <th></th>\n",
       "      <th>CV_RMSE</th>\n",
       "      <th>No of Features</th>\n",
       "      <th>features_used</th>\n",
       "    </tr>\n",
       "  </thead>\n",
       "  <tbody>\n",
       "    <tr>\n",
       "      <th>3</th>\n",
       "      <td>1.643662</td>\n",
       "      <td>2</td>\n",
       "      <td>[TV, Radio]</td>\n",
       "    </tr>\n",
       "  </tbody>\n",
       "</table>\n",
       "</div>"
      ],
      "text/plain": [
       "    CV_RMSE  No of Features features_used\n",
       "3  1.643662               2   [TV, Radio]"
      ]
     },
     "execution_count": 22,
     "metadata": {},
     "output_type": "execute_result"
    }
   ],
   "source": [
    "from math import sqrt\n",
    "import numpy as np\n",
    "\n",
    "features = data_adv.columns.values[:-1]\n",
    "results = {}\n",
    "feature_selection(features,len(features))\n",
    "results['No of Features']=[]\n",
    "results['CV_RMSE']=[]\n",
    "results['features_used']=[]\n",
    "for feature_size in range(1,len(features)+1):\n",
    "    for n in range(len(dict_feature[feature_size])):\n",
    "        xtr,xte,ytr,yte=sample_out_data(feature_size,n)\n",
    "        linreg.fit(xtr,ytr)\n",
    "        ypred=linreg.predict(xte)\n",
    "        results['No of Features'].append(feature_size)\n",
    "        results['features_used'].append(dict_feature[feature_size][n])        \n",
    "        results['CV_RMSE'].append(sqrt(metrics.mean_squared_error(yte,ypred)))\n",
    "\n",
    "res = pd.DataFrame(results)\n",
    "\n",
    "print(res)\n",
    "\n",
    "\n",
    "res[res.CV_RMSE == res.CV_RMSE.min()]"
   ]
  },
  {
   "cell_type": "code",
   "execution_count": 14,
   "metadata": {
    "collapsed": false
   },
   "outputs": [
    {
     "data": {
      "text/plain": [
       "<matplotlib.text.Text at 0xbb4da90>"
      ]
     },
     "execution_count": 14,
     "metadata": {},
     "output_type": "execute_result"
    },
    {
     "data": {
      "image/png": "[encoded data removed]",
      "text/plain": [
       "<matplotlib.figure.Figure at 0xbb2f470>"
      ]
     },
     "metadata": {},
     "output_type": "display_data"
    }
   ],
   "source": [
    "plt.plot(res['No of Features'],res['CV_accuracy'],'.')\n",
    "plt.xlabel(\"No of Features\")\n",
    "plt.ylabel(\"CV_accuracy\")\n"
   ]
  },
  {
   "cell_type": "markdown",
   "metadata": {},
   "source": [
    "### Cross validation Feature selection using cross_val_score function"
   ]
  },
  {
   "cell_type": "code",
   "execution_count": 15,
   "metadata": {
    "collapsed": false
   },
   "outputs": [
    {
     "name": "stdout",
     "output_type": "stream",
     "text": [
      "1.69135317081\n"
     ]
    }
   ],
   "source": [
    "features = data_adv.columns.values[:-1]\n",
    "\n",
    "linreg =  LinearRegression()\n",
    "x = data_adv[features]\n",
    "y = data_adv['Sales']\n",
    "\n",
    "score = cross_val_score(linreg,x,y,cv=10,scoring='neg_mean_squared_error')\n",
    "\n",
    "print(np.sqrt(-score).mean())"
   ]
  },
  {
   "cell_type": "markdown",
   "metadata": {},
   "source": [
    "#### remove News paper feature"
   ]
  },
  {
   "cell_type": "code",
   "execution_count": 16,
   "metadata": {
    "collapsed": false
   },
   "outputs": [
    {
     "name": "stdout",
     "output_type": "stream",
     "text": [
      "1.67967484191\n"
     ]
    }
   ],
   "source": [
    "features = data_adv.columns.values[:-2]\n",
    "\n",
    "linreg =  LinearRegression()\n",
    "x = data_adv[features]\n",
    "y = data_adv['Sales']\n",
    "\n",
    "score = cross_val_score(linreg,x,y,cv=10,scoring='neg_mean_squared_error')\n",
    "\n",
    "print(np.sqrt(-score).mean())"
   ]
  },
  {
   "cell_type": "markdown",
   "metadata": {},
   "source": [
    "### Cross val with all the feature and choose better feature"
   ]
  },
  {
   "cell_type": "code",
   "execution_count": 25,
   "metadata": {
    "collapsed": false
   },
   "outputs": [
    {
     "name": "stdout",
     "output_type": "stream",
     "text": [
      "    CV_RMSE  No of Features           features_used\n",
      "0  5.106098               1             [Newspaper]\n",
      "1  3.283674               1                    [TV]\n",
      "2  4.320405               1                 [Radio]\n",
      "3  1.736064               2             [TV, Radio]\n",
      "4  3.145083               2         [Newspaper, TV]\n",
      "5  4.364321               2      [Newspaper, Radio]\n",
      "6  1.749276               3  [Newspaper, TV, Radio]\n"
     ]
    },
    {
     "data": {
      "text/html": [
       "<div>\n",
       "<table border=\"1\" class=\"dataframe\">\n",
       "  <thead>\n",
       "    <tr style=\"text-align: right;\">\n",
       "      <th></th>\n",
       "      <th>CV_RMSE</th>\n",
       "      <th>No of Features</th>\n",
       "      <th>features_used</th>\n",
       "    </tr>\n",
       "  </thead>\n",
       "  <tbody>\n",
       "    <tr>\n",
       "      <th>3</th>\n",
       "      <td>1.736064</td>\n",
       "      <td>2</td>\n",
       "      <td>[TV, Radio]</td>\n",
       "    </tr>\n",
       "  </tbody>\n",
       "</table>\n",
       "</div>"
      ],
      "text/plain": [
       "    CV_RMSE  No of Features features_used\n",
       "3  1.736064               2   [TV, Radio]"
      ]
     },
     "execution_count": 25,
     "metadata": {},
     "output_type": "execute_result"
    }
   ],
   "source": [
    "from math import sqrt\n",
    "import numpy as np\n",
    "\n",
    "act_features = data_adv.columns.values[:-1]\n",
    "\n",
    "def sample_out_data_cv(feature_size,n):\n",
    "    features = dict_feature[feature_size][n]\n",
    "    x=data_adv[features]\n",
    "    y=data_adv[data_adv.columns.values[-1]]\n",
    "    return(x,y)\n",
    "\n",
    "results = {}\n",
    "feature_selection(act_features,len(act_features))\n",
    "results['No of Features']=[]\n",
    "results['CV_RMSE']=[]\n",
    "results['features_used']=[]\n",
    "\n",
    "\n",
    "for feature_size in range(1,len(act_features)+1):\n",
    "    for n in range(len(dict_feature[feature_size])):\n",
    "        x,y=sample_out_data_cv(feature_size,n)\n",
    "        results['No of Features'].append(feature_size)\n",
    "        results['features_used'].append(dict_feature[feature_size][n])        \n",
    "        results['CV_RMSE'].append(np.sqrt((-cross_val_score(linreg,x,y,cv=10,scoring='neg_mean_squared_error')).mean()))\n",
    "\n",
    "res1 = pd.DataFrame(results)\n",
    "\n",
    "print(res1)\n",
    "\n",
    "res1[res1.CV_RMSE == res1.CV_RMSE.min()]"
   ]
  },
  {
   "cell_type": "code",
   "execution_count": 23,
   "metadata": {
    "collapsed": false
   },
   "outputs": [
    {
     "data": {
      "text/plain": [
       "<matplotlib.text.Text at 0xc5067b8>"
      ]
     },
     "execution_count": 23,
     "metadata": {},
     "output_type": "execute_result"
    },
    {
     "data": {
      "image/png": "[encoded data removed]",
      "text/plain": [
       "<matplotlib.figure.Figure at 0xc4e39e8>"
      ]
     },
     "metadata": {},
     "output_type": "display_data"
    }
   ],
   "source": [
    "plt.plot(res1['No of Features'],res1['CV_RMSE'],'.')\n",
    "plt.xlabel(\"No of Features\")\n",
    "plt.ylabel(\"CV_accuracy\")\n"
   ]
  }
 ],
 "metadata": {
  "kernelspec": {
   "display_name": "Python 3",
   "language": "python",
   "name": "python3"
  },
  "language_info": {
   "codemirror_mode": {
    "name": "ipython",
    "version": 3
   },
   "file_extension": ".py",
   "mimetype": "text/x-python",
   "name": "python",
   "nbconvert_exporter": "python",
   "pygments_lexer": "ipython3",
   "version": "3.6.0"
  }
 },
 "nbformat": 4,
 "nbformat_minor": 2
}
